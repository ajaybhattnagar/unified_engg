{
  "nbformat": 4,
  "nbformat_minor": 0,
  "metadata": {
    "colab": {
      "provenance": []
    },
    "kernelspec": {
      "name": "python3",
      "display_name": "Python 3"
    },
    "language_info": {
      "name": "python"
    }
  },
  "cells": [
    {
      "cell_type": "code",
      "source": [
        "import pandas as pd\n",
        "import numpy as np\n",
        "from datetime import datetime\n"
      ],
      "metadata": {
        "id": "hSULMDYdaTEu"
      },
      "execution_count": null,
      "outputs": []
    },
    {
      "cell_type": "code",
      "source": [
        "def get_penalty_amount(bg):\n",
        "  if ((bg > 200) & (bg < 5001)):\n",
        "    return( bg*0.02 )\n",
        "\n",
        "  if ((bg > 5000) & (bg < 10001)):\n",
        "    return(bg*0.04)\n",
        "\n",
        "  if (bg > 10000):\n",
        "    return(bg*0.06)\n",
        "  else:\n",
        "    return(0)\n",
        "\n",
        "def get_yep(bg, sub, yep_check):\n",
        "  yep_princ_amount = 0\n",
        "  if (bg > 10000):\n",
        "    yep_princ_amount = bg*0.06\n",
        "  else:\n",
        "    yep_princ_amount = 0\n",
        "\n",
        "  yep_sub_amount = 0\n",
        "  if (sub > 10000):\n",
        "    yep_sub_amount = sub*0.06\n",
        "  else:\n",
        "    yep_sub_amount = 0\n",
        "\n",
        "  if (str(yep_check).lower() == 'true'):\n",
        "    return (yep_princ_amount + yep_sub_amount)\n",
        "  else:\n",
        "    return 0\n",
        "  \n",
        "\n",
        "def get_datepart(type, date):\n",
        "  dt = datetime.strptime(date, '%Y-%m-%d')\n",
        "  if (type.lower() == 'day'):\n",
        "    return dt.day\n",
        "  if (type.lower() == 'month'):\n",
        "    return dt.month\n",
        "  if (type.lower() == 'year'):\n",
        "    return dt.year\n",
        "\n",
        "def get_total_penalty(bg, subs, yep):\n",
        "  penalty_amount = get_penalty_amount(bg)\n",
        "  year_end_pen = get_yep(bg, subs, yep)\n",
        "  total_penalty = penalty_amount + year_end_pen\n",
        "  return (total_penalty)\n",
        "\n",
        "def get_total_interest(subs, interest, start_date, end_date):\n",
        "  per_diem_year = 360\n",
        "  per_diem_month = 30\n",
        "\n",
        "  days_interest_year = per_diem_year * (get_datepart('year', start_date) - get_datepart('year', end_date))\n",
        "  days_interest_month = per_diem_month * (get_datepart('month', start_date) - get_datepart('month', end_date))\n",
        "  days_interest_day = (get_datepart('day', start_date) - get_datepart('day', end_date))\n",
        "  total_days = days_interest_day + days_interest_month + days_interest_year\n",
        "\n",
        "  sub_per_diem = total_days / per_diem_year\n",
        "  total_interest = abs(sub_per_diem * subs * interest)\n",
        "  return (total_interest)\n",
        "  "
      ],
      "metadata": {
        "id": "qD1MT1CocFzV"
      },
      "execution_count": null,
      "outputs": []
    },
    {
      "cell_type": "code",
      "source": [
        "test = get_total_penalty(70000, 500, 'false')\n",
        "print (test)\n",
        "\n",
        "test = get_total_interest(123.72, 0.18, '2022-07-20', '2023-02-11')\n",
        "print(test)"
      ],
      "metadata": {
        "id": "_qE8ZEHUmni-",
        "colab": {
          "base_uri": "https://localhost:8080/"
        },
        "outputId": "c3c442ad-4b7c-4651-8b07-2cab806e7cf5"
      },
      "execution_count": null,
      "outputs": [
        {
          "output_type": "stream",
          "name": "stdout",
          "text": [
            "4200.0\n",
            "12.43386\n"
          ]
        }
      ]
    },
    {
      "cell_type": "code",
      "source": [],
      "metadata": {
        "id": "TegmMw8caWUF"
      },
      "execution_count": null,
      "outputs": []
    },
    {
      "cell_type": "code",
      "source": [
        "df = pd.read_excel('test.xlsx')\n"
      ],
      "metadata": {
        "id": "aowjUIj1q8-f"
      },
      "execution_count": null,
      "outputs": []
    },
    {
      "cell_type": "code",
      "source": [
        "test = df[['PARCEL', 'FEES: CATEGORY.1', 'FEES: AMOUNT.1','FEES: INTEREST', 'FEES: EFFECTIVE DATE', 'FEES: END DATE', 'FEES: INTEREST.1', 'BEGINNING BALANCE']]\n",
        "test = test[test['FEES: CATEGORY.1'] == 'Subsequent Tax'].dropna()\n",
        "\n",
        "test['FEES: EFFECTIVE DATE'] = pd.to_datetime(test['FEES: EFFECTIVE DATE'], format='%m/%d/%Y')\n",
        "test['FEES: END DATE'] = pd.to_datetime(test['FEES: END DATE'], format='%m/%d/%Y')\n",
        "test['FEES: EFFECTIVE DATE'] = test['FEES: EFFECTIVE DATE'].dt.strftime('%Y-%m-%d')\n",
        "test['FEES: END DATE'] = test['FEES: END DATE'].dt.strftime('%Y-%m-%d')"
      ],
      "metadata": {
        "id": "JRv5xtX0q85p"
      },
      "execution_count": null,
      "outputs": []
    },
    {
      "cell_type": "code",
      "source": [
        "from pandas.core.reshape.melt import tile_compat\n",
        "total_penalty = []\n",
        "total_interest = []\n",
        "for i in np.arange(0,len(test)):\n",
        "  tp = get_total_penalty(test.iloc[i]['BEGINNING BALANCE'], test.iloc[i]['FEES: AMOUNT.1'], 'false')\n",
        "  ti = get_total_interest(test.iloc[i]['FEES: AMOUNT.1'], test.iloc[i]['FEES: INTEREST'], test.iloc[i]['FEES: EFFECTIVE DATE'], test.iloc[i]['FEES: END DATE'])\n",
        "  total_penalty.append(tp)\n",
        "  total_interest.append(ti)\n",
        "\n",
        "test['total_pen'] = total_penalty\n",
        "test['total_inter'] = total_interest"
      ],
      "metadata": {
        "id": "7jCwUqKIq81E"
      },
      "execution_count": null,
      "outputs": []
    },
    {
      "cell_type": "code",
      "source": [
        "test.to_excel(\"data.xlsx\")"
      ],
      "metadata": {
        "id": "vdkzZlmBaTAz"
      },
      "execution_count": null,
      "outputs": []
    },
    {
      "cell_type": "code",
      "source": [
        "ti = get_total_interest(test.iloc[0]['FEES: AMOUNT.1'], test.iloc[0]['FEES: INTEREST'], test.iloc[0]['FEES: EFFECTIVE DATE'], test.iloc[0]['FEES: END DATE'])\n",
        "ti"
      ],
      "metadata": {
        "id": "2NLTG1ZdaS-k"
      },
      "execution_count": null,
      "outputs": []
    },
    {
      "cell_type": "code",
      "source": [],
      "metadata": {
        "id": "MKTGCZ9GQKOz"
      },
      "execution_count": null,
      "outputs": []
    },
    {
      "cell_type": "code",
      "source": [],
      "metadata": {
        "id": "3exO2R4gQKMS"
      },
      "execution_count": null,
      "outputs": []
    },
    {
      "cell_type": "code",
      "source": [],
      "metadata": {
        "id": "a6ttaHJtQKJw"
      },
      "execution_count": null,
      "outputs": []
    },
    {
      "cell_type": "code",
      "source": [],
      "metadata": {
        "id": "6TYq2-PqQKFi"
      },
      "execution_count": null,
      "outputs": []
    },
    {
      "cell_type": "markdown",
      "source": [
        "**Upload data**"
      ],
      "metadata": {
        "id": "ooNLsF03QKy5"
      }
    },
    {
      "cell_type": "code",
      "source": [
        "import mysql.connector\n",
        "import json\n",
        "import pandas as pd\n",
        "import numpy as np\n",
        "from sqlalchemy import create_engine\n",
        "\n",
        "with open ('config.json') as f:\n",
        "    configData = json.load(f)\n",
        "\n",
        "engine = create_engine(configData['engine_url'])\n",
        "\n",
        "mydb = mysql.connector.connect(\n",
        "        host = configData['host'],\n",
        "        user = configData['user'],\n",
        "        password = configData['password'],\n",
        "        database = configData['database']\n",
        "    )\n",
        "\n",
        "df = pd.read_excel('data.xlsx')\n",
        "\n",
        "# Filter dataframe\n",
        "\n",
        "df = df[df['STATUS'] == 'ACTIVE']\n",
        "df = df[df['STATE'] == 'New Jersey']\n",
        "\n",
        "print (len(df))"
      ],
      "metadata": {
        "colab": {
          "base_uri": "https://localhost:8080/"
        },
        "id": "9e0Nm-N_PwnP",
        "outputId": "deb1c9b7-3459-4f80-8ce4-1d6857f6b0e9"
      },
      "execution_count": 128,
      "outputs": [
        {
          "output_type": "stream",
          "name": "stdout",
          "text": [
            "2069\n"
          ]
        }
      ]
    },
    {
      "cell_type": "code",
      "source": [
        "column = {\n",
        "    \"MANAGING_COMPANY\": \"FUND\",\n",
        "    \"CERTIFICATE\": \"CERTIFICATE\",\n",
        "    \"INVESTMENT_DATE\": \"INVESTMENT DATE\",\n",
        "    \"ORIGINAL_LIEN_AMOUNT\": \"BEGINNING BALANCE\",\n",
        "    \"ORIGINAL_LIEN_INTEREST\": \"BEGINNING BALANCE DEDUCTED INTEREST\",\n",
        "    \"ORIGINAL_LIEN_EFFECTIVE_DATE\": \"BEGINNING BALANCE EFFECTIVE DATE\",\n",
        "    \"ORIGINAL_LIEN_INTERVAL\": \"FEES: INTERVAL\", \n",
        "    \"PREMIUM_AMOUNT\": \"PREMIUMS\",\n",
        "    \"PREMIUM_INTEREST\": \"FEES: INTEREST\", \n",
        "    \"PREMIUM_EFFECTIVE_DATE\": \"FEES: EFFECTIVE DATE\",\n",
        "    \"PREMIUM_INTERVAL\": \"FEES: INTERVAL\",\n",
        "    \"TSRID\": \"TSRID\",\n",
        "    \"STATE\": \"STATE\",\n",
        "    \"COUNTY\": \"COUNTY\",\n",
        "    \"MUNICIPALITY\": \"MUNICIPALITY\",\n",
        "    \"PARCEL_ID\": \"PARCEL\",\n",
        "    \"OWNER_NAME_CURRENT_OWNER\": \"PROPERTY OWNER\",\n",
        "    \"OWNER_ADDRESS\": \"OWNER ADDRESS\",\n",
        "    \"OWNER_CITY_STATE_ZIP\": \"OWNER CITY STATE ZIP\",\n",
        "    \"HOMESTEAD_EXEMPTION\": \"HOMESTEAD EXEMPTION\",\n",
        "    \"TOTAL_ASSESSED_VALUE\": \"ASSESSED VALUE\",\n",
        "    \"TOTAL_MARKET_VALUE\": \"TOTAL MARKET VALUE\",\n",
        "    \"APN\": \"APN\",\n",
        "    \"LOCATION_FULL_STREET_ADDRESS\": \"OWNER ADDRESS\",\n",
        "    \"LOCATION_CITY\": \"LOCATION CITY\",\n",
        "    \"LOCATION_ZIP\": \"ZIP CODE\",\n",
        "    \"LONGITUDE\": \"LONGITUDE\",\n",
        "    \"LATITUDE\": \"LATITUDE\",\n",
        "    \"OWNER_OCCUPIED\": \"OWNER OCCUPIED\",\n",
        "    \"COUNTY_LAND_USE\": \"COUNTY LAND USE\",\n",
        "    \"COUNTY_LAND_USE_DESC\": \"COUNTY LAND USE DESC\",\n",
        "    \"STANDARDIZED_LAND_USE\": \"STANDARDIZED LAND USE\",\n",
        "    \"LOT_SIZE\": \"LOT SIZE\",\n",
        "    \"LOT_SIZE_UNIT\": \"LOT SIZE UNIT\",\n",
        "    \"ZONING\": \"ZONING\",\n",
        "    \"BUILDING_CLASS\": \"BUILDING CLASS\",\n",
        "    \"YEAR_BUILT\": \"YEAR BUILT\",\n",
        "    \"NO_OF_STORIES\": \"NO OF STORIES\",\n",
        "    \"NO_OF_UNITS\": \"NO OF UNITS\",\n",
        "    \"ASSESSMENT_YEAR\": \"ASSESSMENT YEAR\",\n",
        "    \"LATEST_SALE_DATE\": \"LATEST SALE DATE\",\n",
        "    \"LATEST_SALE_PRICE\": \"LATEST SALE PRICE\",\n",
        "    \"LATEST_ARMS_LENGTH_SALE_DATE\": \"LATEST ARMS LENGTH SALE DATE\",\n",
        "    \"LATEST_ARMS_LENGTH_SALE_PRICE\": \"LATEST ARMS LENGTH SALE PRICE\",\n",
        "    \"PRIOR_ARMS_LENGTH_SALE_DATE\": \"PRIOR ARMS LENGTH SALE DATE\",\n",
        "    \"PRIOR_ARMS_LENGTH_SALE_PRICE\": \"PRIOR ARMS LENGTH SALE PRICE\",\n",
        "    \"LOAN1_AMOUNT\": \"LOAN1 AMOUNT\",\n",
        "    \"LOAN1_DUE_DATE\": \"LOAN1 DUE DATE\",\n",
        "    \"LOAN1_TYPE\": \"LOAN1 TYPE\",\n",
        "    \"LOAN2_AMOUNT\": \"LOAN2 AMOUNT\",\n",
        "    \"LEGAL_CITY\": \"LEGAL CITY\",\n",
        "    \"LEGAL_BLOCK\": \"LEGAL BLOCK\",\n",
        "    \"LEGAL_LOT_NUMBER\": \"LEGAL LOT NUMBER\",\n",
        "    \"QUALIFIER\": \"QUALIFIER\",\n",
        "    \"LEGAL_SECTION\": \"LEGAL SECTION\",\n",
        "    \"LEGAL_UNIT\": \"LEGAL UNIT\",\n",
        "    \"LEGAL_SUBDIVISION_NAME\": \"LEGAL SUBDIVISION NAME\",\n",
        "    \"LEGAL_TRACT_NUMBER\": \"LEGAL TRACT NUMBER\",\n",
        "    \"LEGAL_SECTION_TOWNSHIP_RANGE_MERIDIAN\": \"LEGAL SECTION TOWNSHIP RANGE MERIDIAN\",\n",
        "    \"LEGAL_BRIEF_DESC\": \"LEGAL BRIEF DESC\",\n",
        "    \"SUBJECT_FOUND_COUNT\": \"SUBJECT FOUND COUNT\",\n",
        "    \"ENV_RISK\": \"ENV RISK\",\n",
        "    \"TAG_KEEP_MAYBE_REMOVE_VIEWED\": \"TAG (KEEP, MAYBE, REMOVE, VIEWED)\",\n",
        "    \"GRADE_A_B_C_D_F\": \"GRADE (A, B, C, D, F)\",\n",
        "    \"GROUP_1_2_3_4_5\": \"GROUP (1, 2, 3, 4, 5)\",\n",
        "    \"NOTES\": \"notes\",\n",
        "    \"STATUS\": \"Status\",\n",
        "    \"CREATE_DATE\": \"Created Date\",\n",
        "    \"LAST_MODIFY_DATE\": \"Last Modified Date\",\n",
        "    \"UNIQUE_ID\": \"REFERENCE ID\",\n",
        "    \"CATEGORY\": \"FEES: CATEGORY\",\n",
        "    \"AMOUNT\": \"FEES: AMOUNT\",\t\n",
        "    \"DESCRIPTION\": \"FEES: DESCRIPTION\"\n",
        "}\n",
        "column_dict = dict((v,k) for k,v in column.items())\n",
        "req_cols = list(column_dict.values())\n",
        "\n",
        "df1 = df.copy()\n",
        "df1 = df1[df1['FEES: CATEGORY'] == 'Beginning Balance']\n",
        "\n",
        "df1 = df1.rename(columns=column_dict)\n",
        "df1 = df1[df1.columns[df1.columns.isin(req_cols)]]\n",
        "df1['ORIGINAL_LIEN_INTERVAL'] = df1['PREMIUM_INTERVAL']\n",
        "df1['LOAN1_DUE_DATE'] = df1['LOAN1_DUE_DATE'].fillna(\"1994-01-01\", inplace = True)"
      ],
      "metadata": {
        "id": "GW1RVjT_UaUj"
      },
      "execution_count": 165,
      "outputs": []
    },
    {
      "cell_type": "code",
      "source": [
        "# df1 = df[df['PARCEL'] == '63 01017-0000-00002.14-C0028']\n",
        "\n",
        "date_cols = ['ORIGINAL_LIEN_EFFECTIVE_DATE', 'PREMIUM_EFFECTIVE_DATE',  'LATEST_SALE_DATE', 'LOAN1_DUE_DATE']\n",
        "for i in date_cols:\n",
        "  df1[i] = pd.to_datetime(df1[i]).dt.strftime(\"%Y-%m-%d\").astype(str)\n",
        "df1['STATUS'] = 1\n",
        "df1 = df1[df1['TSRID'].isnull() == False]\n",
        "df1.columns\n",
        "\n",
        "\n",
        "# df1.to_sql('PARCELS', engine, if_exists='append', index=False)\n",
        "\n",
        "# df1.to_excel(\"test.xlsx\")"
      ],
      "metadata": {
        "colab": {
          "base_uri": "https://localhost:8080/"
        },
        "id": "ENxm18JBPwk1",
        "outputId": "8e022785-18f2-463f-a5ee-5c43aec3305f"
      },
      "execution_count": 163,
      "outputs": [
        {
          "output_type": "stream",
          "name": "stderr",
          "text": [
            "/usr/local/lib/python3.8/dist-packages/pandas/io/sql.py:1685: UserWarning: The provided table name 'PARCELS' is not found exactly as such in the database after writing the table, possibly due to case sensitivity issues. Consider using lower case table names.\n",
            "  warnings.warn(msg, UserWarning)\n"
          ]
        }
      ]
    },
    {
      "cell_type": "code",
      "source": [],
      "metadata": {
        "id": "eNos834TPwin"
      },
      "execution_count": null,
      "outputs": []
    },
    {
      "cell_type": "code",
      "source": [],
      "metadata": {
        "id": "zHBVZ_-C-uNk"
      },
      "execution_count": null,
      "outputs": []
    },
    {
      "cell_type": "code",
      "source": [],
      "metadata": {
        "id": "Wlo7iSN3-uLi"
      },
      "execution_count": null,
      "outputs": []
    },
    {
      "cell_type": "code",
      "source": [],
      "metadata": {
        "id": "wBgBuwYh-uJG"
      },
      "execution_count": null,
      "outputs": []
    },
    {
      "cell_type": "code",
      "source": [],
      "metadata": {
        "id": "PYgAbswb-uGe"
      },
      "execution_count": null,
      "outputs": []
    },
    {
      "cell_type": "code",
      "source": [
        "df2 = df.copy()\n",
        "df2 = df2.rename(columns=column_dict)\n",
        "\n",
        "df2 = df2[['UNIQUE_ID', 'CATEGORY', 'AMOUNT', 'DESCRIPTION', 'PREMIUM_EFFECTIVE_DATE', 'PREMIUM_INTERVAL', 'PREMIUM_INTEREST']]\n",
        "df2 = df2[df2['CATEGORY'] == 'Subsequent Tax']\n",
        "df2['CATEGORY'] = 3\n",
        "df2['PREMIUM_EFFECTIVE_DATE'] = pd.to_datetime(df2['PREMIUM_EFFECTIVE_DATE']).dt.strftime(\"%Y-%m-%d\").astype(str)\n",
        "df2['DESCRIPTION'] = df2['DESCRIPTION'].astype(str)\n",
        "df2['DESCRIPTION'] = df2['DESCRIPTION'].replace('nan','')\n",
        "df2.columns = ['UNIQUE_ID', 'CATEGORY', 'AMOUNT', 'DESCRIPTION', 'EFFECTIVE_DATE', 'INTEREST_ACC_INTERVAL', 'INTEREST']\n",
        "\n"
      ],
      "metadata": {
        "id": "5uwu3DcTPwgT"
      },
      "execution_count": 181,
      "outputs": []
    },
    {
      "cell_type": "code",
      "source": [
        "df2.to_sql('FEES', engine, if_exists='append', index=False)"
      ],
      "metadata": {
        "colab": {
          "base_uri": "https://localhost:8080/"
        },
        "id": "U_sbmKa4Pwcd",
        "outputId": "583a6da0-35c4-4cfb-f6dd-94a300bbdf62"
      },
      "execution_count": 183,
      "outputs": [
        {
          "output_type": "stream",
          "name": "stderr",
          "text": [
            "/usr/local/lib/python3.8/dist-packages/pandas/io/sql.py:1685: UserWarning: The provided table name 'FEES' is not found exactly as such in the database after writing the table, possibly due to case sensitivity issues. Consider using lower case table names.\n",
            "  warnings.warn(msg, UserWarning)\n"
          ]
        }
      ]
    },
    {
      "cell_type": "code",
      "source": [],
      "metadata": {
        "id": "LeCOdojiPwZ8"
      },
      "execution_count": null,
      "outputs": []
    },
    {
      "cell_type": "code",
      "source": [],
      "metadata": {
        "id": "NS9bQ2XfPwXa"
      },
      "execution_count": null,
      "outputs": []
    },
    {
      "cell_type": "code",
      "source": [],
      "metadata": {
        "id": "yIkj6m4sPwVA"
      },
      "execution_count": null,
      "outputs": []
    },
    {
      "cell_type": "code",
      "source": [],
      "metadata": {
        "id": "l5x8vS0OaS54"
      },
      "execution_count": null,
      "outputs": []
    },
    {
      "cell_type": "code",
      "source": [],
      "metadata": {
        "id": "8pSHXYhhaS3c"
      },
      "execution_count": null,
      "outputs": []
    },
    {
      "cell_type": "code",
      "source": [],
      "metadata": {
        "id": "kbtcpuRXzwy7"
      },
      "execution_count": null,
      "outputs": []
    },
    {
      "cell_type": "code",
      "source": [],
      "metadata": {
        "id": "0hfV4de2zw1M"
      },
      "execution_count": null,
      "outputs": []
    },
    {
      "cell_type": "code",
      "source": [],
      "metadata": {
        "id": "DyGTIEB5zw3K"
      },
      "execution_count": null,
      "outputs": []
    }
  ]
}