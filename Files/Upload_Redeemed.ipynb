{
  "nbformat": 4,
  "nbformat_minor": 0,
  "metadata": {
    "colab": {
      "provenance": []
    },
    "kernelspec": {
      "name": "python3",
      "display_name": "Python 3"
    },
    "language_info": {
      "name": "python"
    }
  },
  "cells": [
    {
      "cell_type": "code",
      "source": [
        "!pip install mysql-connector "
      ],
      "metadata": {
        "id": "ZYoxIBitniuk"
      },
      "execution_count": null,
      "outputs": []
    },
    {
      "cell_type": "code",
      "source": [
        "import mysql.connector\n",
        "import json\n",
        "import pandas as pd\n",
        "import numpy as np\n",
        "from sqlalchemy import create_engine\n",
        "\n",
        "with open ('config.json') as f:\n",
        "    configData = json.load(f)\n",
        "\n",
        "engine = create_engine(configData['engine_url'])\n",
        "\n",
        "mydb = mysql.connector.connect(\n",
        "        host = configData['host'],\n",
        "        user = configData['user'],\n",
        "        password = configData['password'],\n",
        "        database = configData['database']\n",
        "    )\n",
        "\n",
        "df = pd.read_excel('data.xlsx')\n",
        "\n",
        "# Filter dataframe\n",
        "\n",
        "df = df[df['STATUS'] == 'REDEEMED']\n",
        "df = df[df['STATE'] == 'New Jersey']\n",
        "\n",
        "print (len(df))"
      ],
      "metadata": {
        "colab": {
          "base_uri": "https://localhost:8080/"
        },
        "id": "WNt_LytMnisK",
        "outputId": "5bbbccf2-d578-4c51-e157-6ae49fd5b774"
      },
      "execution_count": null,
      "outputs": [
        {
          "output_type": "stream",
          "name": "stdout",
          "text": [
            "6950\n"
          ]
        }
      ]
    },
    {
      "cell_type": "code",
      "source": [
        "column = {\n",
        "    \"MANAGING_COMPANY\": \"FUND\",\n",
        "    \"CERTIFICATE\": \"CERTIFICATE\",\n",
        "    \"INVESTMENT_DATE\": \"INVESTMENT DATE\",\n",
        "    \"ORIGINAL_LIEN_AMOUNT\": \"BEGINNING BALANCE\",\n",
        "    \"ORIGINAL_LIEN_INTEREST\": \"BEGINNING BALANCE DEDUCTED INTEREST\",\n",
        "    \"ORIGINAL_LIEN_EFFECTIVE_DATE\": \"BEGINNING BALANCE EFFECTIVE DATE\",\n",
        "    \"ORIGINAL_LIEN_INTERVAL\": \"FEES: INTERVAL\", \n",
        "    \"PREMIUM_AMOUNT\": \"PREMIUMS\",\n",
        "    \"PREMIUM_INTEREST\": \"FEES: INTEREST\", \n",
        "    \"PREMIUM_EFFECTIVE_DATE\": \"FEES: EFFECTIVE DATE\",\n",
        "    \"PREMIUM_INTERVAL\": \"FEES: INTERVAL\",\n",
        "    \"TSRID\": \"TSRID\",\n",
        "    \"STATE\": \"STATE\",\n",
        "    \"COUNTY\": \"COUNTY\",\n",
        "    \"MUNICIPALITY\": \"MUNICIPALITY\",\n",
        "    \"PARCEL_ID\": \"PARCEL\",\n",
        "    \"OWNER_NAME_CURRENT_OWNER\": \"PROPERTY OWNER\",\n",
        "    \"OWNER_ADDRESS\": \"OWNER ADDRESS\",\n",
        "    \"OWNER_CITY_STATE_ZIP\": \"OWNER CITY STATE ZIP\",\n",
        "    \"HOMESTEAD_EXEMPTION\": \"HOMESTEAD EXEMPTION\",\n",
        "    \"TOTAL_ASSESSED_VALUE\": \"ASSESSED VALUE\",\n",
        "    \"TOTAL_MARKET_VALUE\": \"TOTAL MARKET VALUE\",\n",
        "    \"APN\": \"APN\",\n",
        "    \"LOCATION_FULL_STREET_ADDRESS\": \"OWNER ADDRESS\",\n",
        "    \"LOCATION_CITY\": \"LOCATION CITY\",\n",
        "    \"LOCATION_ZIP\": \"ZIP CODE\",\n",
        "    \"LONGITUDE\": \"LONGITUDE\",\n",
        "    \"LATITUDE\": \"LATITUDE\",\n",
        "    \"OWNER_OCCUPIED\": \"OWNER OCCUPIED\",\n",
        "    \"COUNTY_LAND_USE\": \"COUNTY LAND USE\",\n",
        "    \"COUNTY_LAND_USE_DESC\": \"COUNTY LAND USE DESC\",\n",
        "    \"STANDARDIZED_LAND_USE\": \"STANDARDIZED LAND USE\",\n",
        "    \"LOT_SIZE\": \"LOT SIZE\",\n",
        "    \"LOT_SIZE_UNIT\": \"LOT SIZE UNIT\",\n",
        "    \"ZONING\": \"ZONING\",\n",
        "    \"BUILDING_CLASS\": \"BUILDING CLASS\",\n",
        "    \"YEAR_BUILT\": \"YEAR BUILT\",\n",
        "    \"NO_OF_STORIES\": \"NO OF STORIES\",\n",
        "    \"NO_OF_UNITS\": \"NO OF UNITS\",\n",
        "    \"ASSESSMENT_YEAR\": \"ASSESSMENT YEAR\",\n",
        "    \"LATEST_SALE_DATE\": \"LATEST SALE DATE\",\n",
        "    \"LATEST_SALE_PRICE\": \"LATEST SALE PRICE\",\n",
        "    \"LATEST_ARMS_LENGTH_SALE_DATE\": \"LATEST ARMS LENGTH SALE DATE\",\n",
        "    \"LATEST_ARMS_LENGTH_SALE_PRICE\": \"LATEST ARMS LENGTH SALE PRICE\",\n",
        "    \"PRIOR_ARMS_LENGTH_SALE_DATE\": \"PRIOR ARMS LENGTH SALE DATE\",\n",
        "    \"PRIOR_ARMS_LENGTH_SALE_PRICE\": \"PRIOR ARMS LENGTH SALE PRICE\",\n",
        "    \"LOAN1_AMOUNT\": \"LOAN1 AMOUNT\",\n",
        "    \"LOAN1_DUE_DATE\": \"LOAN1 DUE DATE\",\n",
        "    \"LOAN1_TYPE\": \"LOAN1 TYPE\",\n",
        "    \"LOAN2_AMOUNT\": \"LOAN2 AMOUNT\",\n",
        "    \"LEGAL_CITY\": \"LEGAL CITY\",\n",
        "    \"LEGAL_BLOCK\": \"LEGAL BLOCK\",\n",
        "    \"LEGAL_LOT_NUMBER\": \"LEGAL LOT NUMBER\",\n",
        "    \"QUALIFIER\": \"QUALIFIER\",\n",
        "    \"LEGAL_SECTION\": \"LEGAL SECTION\",\n",
        "    \"LEGAL_UNIT\": \"LEGAL UNIT\",\n",
        "    \"LEGAL_SUBDIVISION_NAME\": \"LEGAL SUBDIVISION NAME\",\n",
        "    \"LEGAL_TRACT_NUMBER\": \"LEGAL TRACT NUMBER\",\n",
        "    \"LEGAL_SECTION_TOWNSHIP_RANGE_MERIDIAN\": \"LEGAL SECTION TOWNSHIP RANGE MERIDIAN\",\n",
        "    \"LEGAL_BRIEF_DESC\": \"LEGAL BRIEF DESC\",\n",
        "    \"SUBJECT_FOUND_COUNT\": \"SUBJECT FOUND COUNT\",\n",
        "    \"ENV_RISK\": \"ENV RISK\",\n",
        "    \"TAG_KEEP_MAYBE_REMOVE_VIEWED\": \"TAG (KEEP, MAYBE, REMOVE, VIEWED)\",\n",
        "    \"GRADE_A_B_C_D_F\": \"GRADE (A, B, C, D, F)\",\n",
        "    \"GROUP_1_2_3_4_5\": \"GROUP (1, 2, 3, 4, 5)\",\n",
        "    \"NOTES\": \"notes\",\n",
        "    \"STATUS\": \"Status\",\n",
        "    \"CREATE_DATE\": \"Created Date\",\n",
        "    \"LAST_MODIFY_DATE\": \"Last Modified Date\",\n",
        "    \"UNIQUE_ID\": \"REFERENCE ID\",\n",
        "}\n",
        "column_dict = dict((v,k) for k,v in column.items())\n",
        "req_cols = list(column_dict.values())\n",
        "\n",
        "df1 = df.copy()\n",
        "df1 = df1[df1['FEES: CATEGORY'] == 'Beginning Balance']\n",
        "\n",
        "df1 = df1.rename(columns=column_dict)\n",
        "df1 = df1[df1.columns[df1.columns.isin(req_cols)]]\n",
        "df1['ORIGINAL_LIEN_INTERVAL'] = df1['PREMIUM_INTERVAL']\n",
        "df1['LOAN1_DUE_DATE'] = df1['LOAN1_DUE_DATE'].fillna(\"1994-01-01\", inplace = True)"
      ],
      "metadata": {
        "id": "I43BvB1pniqB"
      },
      "execution_count": null,
      "outputs": []
    },
    {
      "cell_type": "code",
      "source": [
        "# df1 = df1[df1['PARCEL_ID'] == '10 00263-0000-00029']\n",
        "\n",
        "date_cols = ['ORIGINAL_LIEN_EFFECTIVE_DATE', 'PREMIUM_EFFECTIVE_DATE',  'LATEST_SALE_DATE', 'LOAN1_DUE_DATE']\n",
        "for i in date_cols:\n",
        "  df1[i] = pd.to_datetime(df1[i]).dt.strftime(\"%Y-%m-%d\").astype(str)\n",
        "df1['STATUS'] = 10\n",
        "df1 = df1[df1['TSRID'].isnull() == False]\n",
        "# df1\n",
        "\n",
        "\n",
        "df1.to_sql('PARCELS', engine, if_exists='append', index=False)\n",
        "\n",
        "# df1.to_excel(\"test.xlsx\")"
      ],
      "metadata": {
        "colab": {
          "base_uri": "https://localhost:8080/"
        },
        "id": "B-rkwKsFninx",
        "outputId": "fffc55e5-4357-428a-a6f8-30b54809254c"
      },
      "execution_count": null,
      "outputs": [
        {
          "output_type": "stream",
          "name": "stderr",
          "text": [
            "/usr/local/lib/python3.9/dist-packages/pandas/io/sql.py:1685: UserWarning: The provided table name 'PARCELS' is not found exactly as such in the database after writing the table, possibly due to case sensitivity issues. Consider using lower case table names.\n",
            "  warnings.warn(msg, UserWarning)\n"
          ]
        }
      ]
    },
    {
      "cell_type": "code",
      "source": [],
      "metadata": {
        "id": "I9MzZ-ldnihc"
      },
      "execution_count": null,
      "outputs": []
    },
    {
      "cell_type": "code",
      "source": [
        "# ADD SUBS\n",
        "# Make sure to delete beg. balance and preimumn from the table"
      ],
      "metadata": {
        "id": "1UUiKlTpnifD"
      },
      "execution_count": null,
      "outputs": []
    },
    {
      "cell_type": "code",
      "source": [
        "column.update({\n",
        "    \"CATEGORY\": \"FEES: CATEGORY\",\n",
        "    \"AMOUNT\": \"FEES: AMOUNT\",\t\n",
        "    \"DESCRIPTION\": \"FEES: DESCRIPTION\",\n",
        "    \"EFFECTIVE_END_DATE\": \"FEES: END DATE\"\n",
        "})\n",
        "\n",
        "column_dict = dict((v,k) for k,v in column.items())\n",
        "req_cols = list(column_dict.values())\n",
        "\n",
        "df2 = df.copy()\n",
        "df2 = df2.rename(columns=column_dict)\n",
        "\n",
        "# df2 = df2[df2['PARCEL_ID'] == '10 00263-0000-00029']\n",
        "\n",
        "df2 = df2[['UNIQUE_ID', 'CATEGORY', 'AMOUNT', 'DESCRIPTION', 'PREMIUM_EFFECTIVE_DATE', 'PREMIUM_INTERVAL', 'PREMIUM_INTEREST', 'EFFECTIVE_END_DATE']]\n",
        "df2 = df2[(df2['CATEGORY'] == 'Subsequent Tax') | (df2['CATEGORY'] == 'Beginning Balance') | (df2['CATEGORY'] == 'Premium')]\n",
        "\n",
        "# Update category to correct number\n",
        "category_dictionary ={'Subsequent Tax' : 3, 'Beginning Balance' : 1, 'Premium' : 2}\n",
        "df2['CATEGORY'] = df2['CATEGORY'].map(category_dictionary)\n",
        "\n",
        "\n",
        "df2['PREMIUM_EFFECTIVE_DATE'] = pd.to_datetime(df2['PREMIUM_EFFECTIVE_DATE']).dt.strftime(\"%Y-%m-%d\").astype(str)\n",
        "df2['EFFECTIVE_END_DATE'] = pd.to_datetime(df2['EFFECTIVE_END_DATE']).dt.strftime(\"%Y-%m-%d\").astype(str)\n",
        "df2['DESCRIPTION'] = df2['DESCRIPTION'].astype(str)\n",
        "df2['DESCRIPTION'] = df2['DESCRIPTION'].replace('nan','')\n",
        "df2.columns = ['UNIQUE_ID', 'CATEGORY', 'AMOUNT', 'DESCRIPTION', 'EFFECTIVE_DATE', 'INTEREST_ACC_INTERVAL', 'INTEREST', 'EFFECTIVE_END_DATE']\n",
        "\n",
        "# Add to database\n",
        "df2.to_sql('FEES', engine, if_exists='append', index=False)\n",
        "\n",
        "\n",
        "\n"
      ],
      "metadata": {
        "colab": {
          "base_uri": "https://localhost:8080/"
        },
        "id": "6h1pkJuNnicq",
        "outputId": "68de5a16-1a47-4ca5-a398-971c31d367ae"
      },
      "execution_count": null,
      "outputs": [
        {
          "output_type": "stream",
          "name": "stderr",
          "text": [
            "/usr/local/lib/python3.9/dist-packages/pandas/io/sql.py:1685: UserWarning: The provided table name 'FEES' is not found exactly as such in the database after writing the table, possibly due to case sensitivity issues. Consider using lower case table names.\n",
            "  warnings.warn(msg, UserWarning)\n"
          ]
        }
      ]
    },
    {
      "cell_type": "code",
      "source": [
        "unique_parcel = df2['UNIQUE_ID'].unique()\n",
        "\n",
        "# Get effective end date to update beg. balance and premium\n",
        "# Run only to update beg. balance and premium, not usefull\n",
        "# for i in unique_parcel:\n",
        "#   test_df = df2[df2['UNIQUE_ID'] == i]\n",
        "#   eff_end_date = test_df.iloc[0]['EFFECTIVE_END_DATE']\n",
        "#   sql = \"SET SQL_SAFE_UPDATES = 0; UPDATE FEES SET EFFECTIVE_END_DATE = '{D}' WHERE UNIQUE_ID = '{I}'\".format(D = eff_end_date, I = i)\n",
        "\n",
        "#   mycursor = mydb.cursor()\n",
        "#   mycursor.execute(sql, multi=True)\n",
        "#   mydb.commit()\n",
        "#   mycursor.close()"
      ],
      "metadata": {
        "id": "-y09uPDs2HYO"
      },
      "execution_count": null,
      "outputs": []
    },
    {
      "cell_type": "code",
      "source": [],
      "metadata": {
        "id": "yOSok7to2HV6"
      },
      "execution_count": null,
      "outputs": []
    },
    {
      "cell_type": "code",
      "source": [],
      "metadata": {
        "id": "rvgr2GLO2HTf"
      },
      "execution_count": null,
      "outputs": []
    },
    {
      "cell_type": "code",
      "source": [],
      "metadata": {
        "id": "PbLdA-TN2HP3"
      },
      "execution_count": null,
      "outputs": []
    },
    {
      "cell_type": "code",
      "source": [
        "# Redeemed"
      ],
      "metadata": {
        "id": "B8A1ShSs0LVj"
      },
      "execution_count": null,
      "outputs": []
    },
    {
      "cell_type": "code",
      "source": [
        "column.update({\n",
        "    \"PAYMENT\": \"RECEIVED PAYMENT TYPE\",\n",
        "    \"DATE_REDEEMED\": \"RECEIVED PAYMENT EFFECTIVE DATE\",\t\n",
        "    \"CHECK_AMOUNT\": \"RECEIVED PAYMENT CHECK AMOUNT\",\n",
        "    \"CHECK_NUMBER\": \"RECEIVED PAYMENT CHECK NUMBER\",\n",
        "    \"CHECK_RECEIVED\": \"RECEIVED PAYMENT CHECK RECEIVED\",\n",
        "    \"SOURCE\": \"RECEIVED PAYMENT SOURCE\",\n",
        "    \"METHOD\" : \"RECEIVED PAYMENT METHOD\",\n",
        "    \"DESCRIPTION\": \"RECEIVED PAYMENT DESCRIPTION\"\n",
        "})\n",
        "\n",
        "\n",
        "column_dict = dict((v,k) for k,v in column.items())\n",
        "req_cols = list(column_dict.values())\n",
        "\n",
        "df3 = df.copy()\n",
        "df3 = df3.rename(columns=column_dict)\n",
        "\n",
        "# df3 = df3[df3['PARCEL_ID'] == '10 00263-0000-00029']\n",
        "df3 = df3[df3['PAYMENT'] == 'Redemption Check']\n",
        "\n",
        "df3 = df3[['UNIQUE_ID', 'DATE_REDEEMED', 'CHECK_AMOUNT', 'CHECK_NUMBER', 'CHECK_RECEIVED', 'SOURCE', 'METHOD', 'DESCRIPTION']]\n",
        "\n",
        "df3['DATE_REDEEMED'] = pd.to_datetime(df3['DATE_REDEEMED']).dt.strftime(\"%Y-%m-%d\").astype(str)\n",
        "df3['CHECK_RECEIVED'] = pd.to_datetime(df3['CHECK_RECEIVED']).dt.strftime(\"%Y-%m-%d\").astype(str)\n",
        "df3['DESCRIPTION'] = df2['DESCRIPTION'].astype(str)\n",
        "df3['DESCRIPTION'] = df2['DESCRIPTION'].replace('nan','')\n",
        "df3['DESCRIPTION'] = df2['DESCRIPTION'].replace('NaN','')\n",
        "\n",
        "\n",
        "df3.to_sql('REDEEM', engine, if_exists='append', index=False)\n",
        "\n",
        "\n"
      ],
      "metadata": {
        "colab": {
          "base_uri": "https://localhost:8080/"
        },
        "id": "_LmP0eZWr5Gu",
        "outputId": "4ef6d7a4-7f16-4b39-d836-500b0e32d0d6"
      },
      "execution_count": null,
      "outputs": [
        {
          "output_type": "stream",
          "name": "stderr",
          "text": [
            "/usr/local/lib/python3.9/dist-packages/pandas/io/sql.py:1685: UserWarning: The provided table name 'REDEEM' is not found exactly as such in the database after writing the table, possibly due to case sensitivity issues. Consider using lower case table names.\n",
            "  warnings.warn(msg, UserWarning)\n"
          ]
        }
      ]
    },
    {
      "cell_type": "code",
      "source": [],
      "metadata": {
        "id": "UFuowhg3r5EG"
      },
      "execution_count": null,
      "outputs": []
    },
    {
      "cell_type": "code",
      "source": [],
      "metadata": {
        "id": "gPBaRDVkr5Bx"
      },
      "execution_count": null,
      "outputs": []
    },
    {
      "cell_type": "code",
      "source": [],
      "metadata": {
        "id": "sIojAOx6r4_j"
      },
      "execution_count": null,
      "outputs": []
    },
    {
      "cell_type": "code",
      "source": [],
      "metadata": {
        "id": "B7j_sZMsr49f"
      },
      "execution_count": null,
      "outputs": []
    },
    {
      "cell_type": "code",
      "source": [],
      "metadata": {
        "id": "VbHkeLK8r46y"
      },
      "execution_count": null,
      "outputs": []
    }
  ]
}